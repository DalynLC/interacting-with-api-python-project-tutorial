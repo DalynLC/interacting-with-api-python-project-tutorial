{
    "cells": [
        {
            "cell_type": "markdown",
            "metadata": {},
            "source": [
                "# Explore here"
            ]
        },
        {
            "cell_type": "code",
            "execution_count": 13,
            "metadata": {},
            "outputs": [
                {
                    "name": "stdout",
                    "output_type": "stream",
                    "text": [
                        "['Back To Me', 'Sorry', \"She's In The Rain\", 'RED', \"You're Beautiful\", 'Sour', 'Alive', 'Lifeline', 'I.L.Y.', \"I Don't Know You\"]\n",
                        "[62, 59, 58, 57, 54, 52, 49, 51, 50, 49]\n",
                        "[3.7494666666666667, 3.591266666666667, 3.9596, 2.9411, 3.919583333333333, 3.3430166666666667, 3.2546, 2.697216666666667, 3.70035, 2.6405666666666665]\n"
                    ]
                }
            ],
            "source": [
                "import os\n",
                "import pandas as pd\n",
                "import seaborn as sns\n",
                "from dotenv import load_dotenv\n",
                "import spotipy\n",
                "from spotipy import SpotifyClientCredentials\n",
                "\n",
                "# load the .env file variables\n",
                "load_dotenv()\n",
                "\n",
                "client_id = os.environ.get(\"CLIENT_ID\")\n",
                "client_secret = os.environ.get(\"CLIENT_SECRET\")\n",
                "\n",
                "artist_id = \"5na1LmEmK2VzNLje9snJYW\"\n",
                "canciones = []\n",
                "popularidad = []\n",
                "duracion = []\n",
                "\n",
                "spotify = spotipy.Spotify(client_credentials_manager=SpotifyClientCredentials(client_id=client_id,client_secret=client_secret))\n",
                "results = spotify.artist_top_tracks(artist_id)\n",
                "\n",
                "for track in results['tracks'][:10]:\n",
                "    #print('track    : ' + track['name'])\n",
                "    canciones.append(track['name'])\n",
                "    popularidad.append(track['popularity'])\n",
                "    duracion.append(track['duration_ms']/(1000*60)%60)\n",
                "\n",
                "print(canciones)\n",
                "print(popularidad)\n",
                "print(duracion)"
            ]
        }
    ],
    "metadata": {
        "kernelspec": {
            "display_name": "Python 3",
            "language": "python",
            "name": "python3"
        },
        "language_info": {
            "codemirror_mode": {
                "name": "ipython",
                "version": 3
            },
            "file_extension": ".py",
            "mimetype": "text/x-python",
            "name": "python",
            "nbconvert_exporter": "python",
            "pygments_lexer": "ipython3",
            "version": "3.11.4"
        },
        "orig_nbformat": 4
    },
    "nbformat": 4,
    "nbformat_minor": 2
}
