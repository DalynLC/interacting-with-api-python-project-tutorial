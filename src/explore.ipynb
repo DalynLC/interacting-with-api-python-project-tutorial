{
    "cells": [
        {
            "cell_type": "markdown",
            "metadata": {},
            "source": [
                "# Explore here"
            ]
        },
        {
            "cell_type": "code",
            "execution_count": 10,
            "metadata": {},
            "outputs": [
                {
                    "name": "stdout",
                    "output_type": "stream",
                    "text": [
                        "           Titles  Popularidad  Duracion\n",
                        "9  Off The Record           60  3.145550\n",
                        "7          Kitsch           64  3.257333\n",
                        "8        Accendio           64  3.200217\n",
                        "6          Baddie           65  2.572667\n",
                        "4       해야 (HEYA)           67  3.161333\n",
                        "5          ELEVEN           67  2.974217\n",
                        "2      After LIKE           70  2.949550\n",
                        "3       LOVE DIVE           70  2.953100\n",
                        "1            I AM           72  3.064217\n",
                        "0  Supernova Love           74  3.325067\n"
                    ]
                }
            ],
            "source": [
                "import os\n",
                "import numpy as np\n",
                "import pandas as pd\n",
                "import seaborn as sns\n",
                "from dotenv import load_dotenv\n",
                "import spotipy\n",
                "from spotipy import SpotifyClientCredentials\n",
                "\n",
                "# load the .env file variables\n",
                "load_dotenv()\n",
                "\n",
                "client_id = os.environ.get(\"CLIENT_ID\")\n",
                "client_secret = os.environ.get(\"CLIENT_SECRET\")\n",
                "\n",
                "artist_id = \"6RHTUrRF63xao58xh9FXYJ\"\n",
                "canciones = []\n",
                "popularidad = []\n",
                "duracion = []\n",
                "\n",
                "spotify = spotipy.Spotify(client_credentials_manager=SpotifyClientCredentials(client_id=client_id,client_secret=client_secret))\n",
                "results = spotify.artist_top_tracks(artist_id)\n",
                "\n",
                "for track in results['tracks'][:10]:\n",
                "    canciones.append(track['name'])\n",
                "    popularidad.append(track['popularity'])\n",
                "    duracion.append(track['duration_ms']/(1000*60)%60)\n",
                "\n",
                "datos = {\n",
                "    'Titles': canciones,\n",
                "    'Popularidad': popularidad,\n",
                "    'Duracion': duracion\n",
                "}\n",
                "\n",
                "df = pd.DataFrame(datos)\n",
                "df = df.sort_values(by = 'Popularidad')\n",
                "print(df)"
            ]
        },
        {
            "cell_type": "code",
            "execution_count": 9,
            "metadata": {},
            "outputs": [
                {
                    "data": {
                        "image/png": "[encoded data removed]",
                        "text/plain": [
                            "<Figure size 640x480 with 1 Axes>"
                        ]
                    },
                    "metadata": {},
                    "output_type": "display_data"
                }
            ],
            "source": [
                "scatter_plot = sns.scatterplot(data = df, y ='Popularidad', x = 'Duracion')\n",
                "\n",
                "# Etiquetas y título\n",
                "fig = scatter_plot.get_figure()"
            ]
        },
        {
            "cell_type": "markdown",
            "metadata": {},
            "source": [
                "### Conclusiones\n",
                "\n",
                "El índice de popularidad de Spotify indica que entre más alto sea el índice (en escala de 0-100), más relevante será el artistas respecto a canciones o artistas similares. Según la gráfica obtenida, no hay relación directa entre la duración de las canciones con respecto a su popularidad en cuanto a este artista, pues se ha demostrado que las canciones más largas no son más ni menos populares que las más cortas."
            ]
        }
    ],
    "metadata": {
        "kernelspec": {
            "display_name": "Python 3",
            "language": "python",
            "name": "python3"
        },
        "language_info": {
            "codemirror_mode": {
                "name": "ipython",
                "version": 3
            },
            "file_extension": ".py",
            "mimetype": "text/x-python",
            "name": "python",
            "nbconvert_exporter": "python",
            "pygments_lexer": "ipython3",
            "version": "3.11.4"
        },
        "orig_nbformat": 4
    },
    "nbformat": 4,
    "nbformat_minor": 2
}
